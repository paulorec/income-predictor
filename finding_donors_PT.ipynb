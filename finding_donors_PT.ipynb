{
 "cells": [
  {
   "cell_type": "markdown",
   "metadata": {},
   "source": [
    "# Nanodegree Engenheiro de Machine Learning\n",
    "## Aprendizado Supervisionado\n",
    "## Projeto: Encontrando doadores para a *CharityML*"
   ]
  },
  {
   "cell_type": "markdown",
   "metadata": {},
   "source": [
    "Seja bem-vindo ao segundo projeto do Nanodegree Engenheiro de Machine Learning! Neste notebook, você receberá alguns códigos de exemplo e será seu trabalho implementar as funcionalidades adicionais necessárias para a conclusão do projeto. As seções cujo cabeçalho começa com **'Implementação'** indicam que o bloco de código posterior requer funcionalidades adicionais que você deve desenvolver. Para cada parte do projeto serão fornecidas instruções e as diretrizes da implementação estarão marcadas no bloco de código com uma expressão `'TODO'`. \n",
    "Por favor, leia cuidadosamente as instruções!\n",
    "\n",
    "Além de implementações de código, você terá de responder questões relacionadas ao projeto e à sua implementação. Cada seção onde você responderá uma questão terá um cabeçalho com o termo **'Questão X'**. Leia com atenção as questões e forneça respostas completas nas caixas de texto que começam com o termo **'Resposta:'**. A submissão do seu projeto será avaliada baseada nas suas resostas para cada uma das questões além das implementações que você disponibilizar.\n",
    "\n",
    ">**Nota:** Por favor, especifique QUAL A VERSÃO DO PYTHON utilizada por você para a submissão deste notebook. As células \"Code\" e \"Markdown\" podem ser executadas utilizando o atalho do teclado **Shift + Enter**. Além disso, as células \"Markdown\" podem ser editadas clicando-se duas vezes na célula.\n"
   ]
  },
  {
   "cell_type": "markdown",
   "metadata": {},
   "source": [
    "## Iniciando\n",
    "\n",
    "Neste projeto, você utilizará diversos algoritmos de aprendizado supervisionado para modelar com precisão a remuneração de indivíduos utilizando dados coletados no censo americano de 1994. Você escolherá o algoritmo mais adequado através dos resultados preliminares e irá otimizá-lo para modelagem dos dados. O seu objetivo com esta implementação é construir um modelo que pode predizer com precisão se um indivíduo possui uma remuneração superior a $50,000. Este tipo de tarefa pode surgir em organizações sem fins lucrativos que sobrevivem de doações. Entender a remuneração de um indivíduo pode ajudar a organização o montante mais adequado para uma solicitação de doação, ou ainda se eles realmente deveriam entrar em contato com a pessoa. Enquanto pode ser uma tarefa difícil determinar a faixa de renda de uma pesssoa de maneira direta, nós podemos inferir estes valores através de outros recursos disponíveis publicamente. \n",
    "\n",
    "O conjunto de dados para este projeto se origina do [Repositório de Machine Learning UCI](https://archive.ics.uci.edu/ml/datasets/Census+Income) e foi cedido por Ron Kohavi e Barry Becker, após a sua publicação no artigo _\"Scaling Up the Accuracy of Naive-Bayes Classifiers: A Decision-Tree Hybrid\"_. Você pode encontrar o artigo de Ron Kohavi [online](https://www.aaai.org/Papers/KDD/1996/KDD96-033.pdf). Os dados que investigaremos aqui possuem algumas pequenas modificações se comparados com os dados originais, como por exemplo a remoção da funcionalidade `'fnlwgt'` e a remoção de registros inconsistentes.\n"
   ]
  },
  {
   "cell_type": "markdown",
   "metadata": {},
   "source": [
    "----\n",
    "## Explorando os dados\n",
    "Execute a célula de código abaixo para carregas as bibliotecas Python necessárias e carregas os dados do censo. Perceba que a última coluna deste cojunto de dados, `'income'`, será o rótulo do nosso alvo (se um indivíduo possui remuneração igual ou maior do que $50,000 anualmente). Todas as outras colunas são dados de cada indívduo na base de dados do censo."
   ]
  },
  {
   "cell_type": "code",
   "execution_count": 9,
   "metadata": {},
   "outputs": [
    {
     "data": {
      "text/html": [
       "<div>\n",
       "<style scoped>\n",
       "    .dataframe tbody tr th:only-of-type {\n",
       "        vertical-align: middle;\n",
       "    }\n",
       "\n",
       "    .dataframe tbody tr th {\n",
       "        vertical-align: top;\n",
       "    }\n",
       "\n",
       "    .dataframe thead th {\n",
       "        text-align: right;\n",
       "    }\n",
       "</style>\n",
       "<table border=\"1\" class=\"dataframe\">\n",
       "  <thead>\n",
       "    <tr style=\"text-align: right;\">\n",
       "      <th></th>\n",
       "      <th>age</th>\n",
       "      <th>workclass</th>\n",
       "      <th>education_level</th>\n",
       "      <th>education-num</th>\n",
       "      <th>marital-status</th>\n",
       "      <th>occupation</th>\n",
       "      <th>relationship</th>\n",
       "      <th>race</th>\n",
       "      <th>sex</th>\n",
       "      <th>capital-gain</th>\n",
       "      <th>capital-loss</th>\n",
       "      <th>hours-per-week</th>\n",
       "      <th>native-country</th>\n",
       "      <th>income</th>\n",
       "    </tr>\n",
       "  </thead>\n",
       "  <tbody>\n",
       "    <tr>\n",
       "      <th>0</th>\n",
       "      <td>39</td>\n",
       "      <td>State-gov</td>\n",
       "      <td>Bachelors</td>\n",
       "      <td>13.0</td>\n",
       "      <td>Never-married</td>\n",
       "      <td>Adm-clerical</td>\n",
       "      <td>Not-in-family</td>\n",
       "      <td>White</td>\n",
       "      <td>Male</td>\n",
       "      <td>2174.0</td>\n",
       "      <td>0.0</td>\n",
       "      <td>40.0</td>\n",
       "      <td>United-States</td>\n",
       "      <td>&lt;=50K</td>\n",
       "    </tr>\n",
       "    <tr>\n",
       "      <th>1</th>\n",
       "      <td>50</td>\n",
       "      <td>Self-emp-not-inc</td>\n",
       "      <td>Bachelors</td>\n",
       "      <td>13.0</td>\n",
       "      <td>Married-civ-spouse</td>\n",
       "      <td>Exec-managerial</td>\n",
       "      <td>Husband</td>\n",
       "      <td>White</td>\n",
       "      <td>Male</td>\n",
       "      <td>0.0</td>\n",
       "      <td>0.0</td>\n",
       "      <td>13.0</td>\n",
       "      <td>United-States</td>\n",
       "      <td>&lt;=50K</td>\n",
       "    </tr>\n",
       "    <tr>\n",
       "      <th>2</th>\n",
       "      <td>38</td>\n",
       "      <td>Private</td>\n",
       "      <td>HS-grad</td>\n",
       "      <td>9.0</td>\n",
       "      <td>Divorced</td>\n",
       "      <td>Handlers-cleaners</td>\n",
       "      <td>Not-in-family</td>\n",
       "      <td>White</td>\n",
       "      <td>Male</td>\n",
       "      <td>0.0</td>\n",
       "      <td>0.0</td>\n",
       "      <td>40.0</td>\n",
       "      <td>United-States</td>\n",
       "      <td>&lt;=50K</td>\n",
       "    </tr>\n",
       "    <tr>\n",
       "      <th>3</th>\n",
       "      <td>53</td>\n",
       "      <td>Private</td>\n",
       "      <td>11th</td>\n",
       "      <td>7.0</td>\n",
       "      <td>Married-civ-spouse</td>\n",
       "      <td>Handlers-cleaners</td>\n",
       "      <td>Husband</td>\n",
       "      <td>Black</td>\n",
       "      <td>Male</td>\n",
       "      <td>0.0</td>\n",
       "      <td>0.0</td>\n",
       "      <td>40.0</td>\n",
       "      <td>United-States</td>\n",
       "      <td>&lt;=50K</td>\n",
       "    </tr>\n",
       "    <tr>\n",
       "      <th>4</th>\n",
       "      <td>28</td>\n",
       "      <td>Private</td>\n",
       "      <td>Bachelors</td>\n",
       "      <td>13.0</td>\n",
       "      <td>Married-civ-spouse</td>\n",
       "      <td>Prof-specialty</td>\n",
       "      <td>Wife</td>\n",
       "      <td>Black</td>\n",
       "      <td>Female</td>\n",
       "      <td>0.0</td>\n",
       "      <td>0.0</td>\n",
       "      <td>40.0</td>\n",
       "      <td>Cuba</td>\n",
       "      <td>&lt;=50K</td>\n",
       "    </tr>\n",
       "    <tr>\n",
       "      <th>5</th>\n",
       "      <td>37</td>\n",
       "      <td>Private</td>\n",
       "      <td>Masters</td>\n",
       "      <td>14.0</td>\n",
       "      <td>Married-civ-spouse</td>\n",
       "      <td>Exec-managerial</td>\n",
       "      <td>Wife</td>\n",
       "      <td>White</td>\n",
       "      <td>Female</td>\n",
       "      <td>0.0</td>\n",
       "      <td>0.0</td>\n",
       "      <td>40.0</td>\n",
       "      <td>United-States</td>\n",
       "      <td>&lt;=50K</td>\n",
       "    </tr>\n",
       "    <tr>\n",
       "      <th>6</th>\n",
       "      <td>49</td>\n",
       "      <td>Private</td>\n",
       "      <td>9th</td>\n",
       "      <td>5.0</td>\n",
       "      <td>Married-spouse-absent</td>\n",
       "      <td>Other-service</td>\n",
       "      <td>Not-in-family</td>\n",
       "      <td>Black</td>\n",
       "      <td>Female</td>\n",
       "      <td>0.0</td>\n",
       "      <td>0.0</td>\n",
       "      <td>16.0</td>\n",
       "      <td>Jamaica</td>\n",
       "      <td>&lt;=50K</td>\n",
       "    </tr>\n",
       "    <tr>\n",
       "      <th>7</th>\n",
       "      <td>52</td>\n",
       "      <td>Self-emp-not-inc</td>\n",
       "      <td>HS-grad</td>\n",
       "      <td>9.0</td>\n",
       "      <td>Married-civ-spouse</td>\n",
       "      <td>Exec-managerial</td>\n",
       "      <td>Husband</td>\n",
       "      <td>White</td>\n",
       "      <td>Male</td>\n",
       "      <td>0.0</td>\n",
       "      <td>0.0</td>\n",
       "      <td>45.0</td>\n",
       "      <td>United-States</td>\n",
       "      <td>&gt;50K</td>\n",
       "    </tr>\n",
       "    <tr>\n",
       "      <th>8</th>\n",
       "      <td>31</td>\n",
       "      <td>Private</td>\n",
       "      <td>Masters</td>\n",
       "      <td>14.0</td>\n",
       "      <td>Never-married</td>\n",
       "      <td>Prof-specialty</td>\n",
       "      <td>Not-in-family</td>\n",
       "      <td>White</td>\n",
       "      <td>Female</td>\n",
       "      <td>14084.0</td>\n",
       "      <td>0.0</td>\n",
       "      <td>50.0</td>\n",
       "      <td>United-States</td>\n",
       "      <td>&gt;50K</td>\n",
       "    </tr>\n",
       "    <tr>\n",
       "      <th>9</th>\n",
       "      <td>42</td>\n",
       "      <td>Private</td>\n",
       "      <td>Bachelors</td>\n",
       "      <td>13.0</td>\n",
       "      <td>Married-civ-spouse</td>\n",
       "      <td>Exec-managerial</td>\n",
       "      <td>Husband</td>\n",
       "      <td>White</td>\n",
       "      <td>Male</td>\n",
       "      <td>5178.0</td>\n",
       "      <td>0.0</td>\n",
       "      <td>40.0</td>\n",
       "      <td>United-States</td>\n",
       "      <td>&gt;50K</td>\n",
       "    </tr>\n",
       "  </tbody>\n",
       "</table>\n",
       "</div>"
      ],
      "text/plain": [
       "   age          workclass education_level  education-num  \\\n",
       "0   39          State-gov       Bachelors           13.0   \n",
       "1   50   Self-emp-not-inc       Bachelors           13.0   \n",
       "2   38            Private         HS-grad            9.0   \n",
       "3   53            Private            11th            7.0   \n",
       "4   28            Private       Bachelors           13.0   \n",
       "5   37            Private         Masters           14.0   \n",
       "6   49            Private             9th            5.0   \n",
       "7   52   Self-emp-not-inc         HS-grad            9.0   \n",
       "8   31            Private         Masters           14.0   \n",
       "9   42            Private       Bachelors           13.0   \n",
       "\n",
       "           marital-status          occupation    relationship    race  \\\n",
       "0           Never-married        Adm-clerical   Not-in-family   White   \n",
       "1      Married-civ-spouse     Exec-managerial         Husband   White   \n",
       "2                Divorced   Handlers-cleaners   Not-in-family   White   \n",
       "3      Married-civ-spouse   Handlers-cleaners         Husband   Black   \n",
       "4      Married-civ-spouse      Prof-specialty            Wife   Black   \n",
       "5      Married-civ-spouse     Exec-managerial            Wife   White   \n",
       "6   Married-spouse-absent       Other-service   Not-in-family   Black   \n",
       "7      Married-civ-spouse     Exec-managerial         Husband   White   \n",
       "8           Never-married      Prof-specialty   Not-in-family   White   \n",
       "9      Married-civ-spouse     Exec-managerial         Husband   White   \n",
       "\n",
       "       sex  capital-gain  capital-loss  hours-per-week  native-country income  \n",
       "0     Male        2174.0           0.0            40.0   United-States  <=50K  \n",
       "1     Male           0.0           0.0            13.0   United-States  <=50K  \n",
       "2     Male           0.0           0.0            40.0   United-States  <=50K  \n",
       "3     Male           0.0           0.0            40.0   United-States  <=50K  \n",
       "4   Female           0.0           0.0            40.0            Cuba  <=50K  \n",
       "5   Female           0.0           0.0            40.0   United-States  <=50K  \n",
       "6   Female           0.0           0.0            16.0         Jamaica  <=50K  \n",
       "7     Male           0.0           0.0            45.0   United-States   >50K  \n",
       "8   Female       14084.0           0.0            50.0   United-States   >50K  \n",
       "9     Male        5178.0           0.0            40.0   United-States   >50K  "
      ]
     },
     "metadata": {},
     "output_type": "display_data"
    }
   ],
   "source": [
    "# Importe as bibliotecas necessárias para o projeto.\n",
    "import numpy as np\n",
    "import pandas as pd\n",
    "from time import time\n",
    "from IPython.display import display # Permite a utilização da função display() para DataFrames.\n",
    "\n",
    "# Importação da biblioteca de visualização visuals.py\n",
    "import visuals as vs\n",
    "\n",
    "# Exibição amigável para notebooks\n",
    "%matplotlib inline\n",
    "\n",
    "# Carregando os dados do Censo\n",
    "data = pd.read_csv(\"census.csv\")\n",
    "\n",
    "# Sucesso - Exibindo o primeiro registro\n",
    "display(data.head(n=10))"
   ]
  },
  {
   "cell_type": "markdown",
   "metadata": {},
   "source": [
    "### Implementação: Explorando os Dados\n",
    "\n",
    "Uma investigação superficial da massa de dados determinará quantos indivíduos se enquadram em cada grupo e nos dirá sobre o percentual destes indivúdos com remuneração anual superior à \\$50,000. No código abaixo, você precisará calcular o seguinte:\n",
    "- O número total de registros, `'n_records'`\n",
    "- O número de indivíduos com remuneração anual superior à \\$50,000, `'n_greater_50k'`.\n",
    "- O número de indivíduos com remuneração anual até \\$50,000, `'n_at_most_50k'`.\n",
    "- O percentual de indivíduos com remuneração anual superior à \\$50,000, `'greater_percent'`.\n",
    "\n",
    "** DICA: ** Você pode precisar olhar a tabela acima para entender como os registros da coluna `'income'` estão formatados."
   ]
  },
  {
   "cell_type": "code",
   "execution_count": 27,
   "metadata": {},
   "outputs": [
    {
     "name": "stdout",
     "output_type": "stream",
     "text": [
      "Total number of records: 45222\n",
      "Individuals making more than $50,000: 11208\n",
      "Individuals making at most $50,000: 34014\n",
      "Percentage of individuals making more than $50,000: 24.78%\n",
      "Garbage found: 0\n"
     ]
    }
   ],
   "source": [
    "n_records = len(data)\n",
    "\n",
    "# TODO: Número de registros com remuneração anual superior à $50,000\n",
    "n_greater_50k = len(filter(lambda x : x == '>50K',data.income))\n",
    "\n",
    "# TODO: O número de registros com remuneração anual até $50,000\n",
    "n_at_most_50k = len(filter(lambda x : x == '<=50K' ,data.income))\n",
    "\n",
    "# TODO: O número de registros com remuneração anual até $50,000\n",
    "garbage = len(filter(lambda x : (x != '<=50K') & (x != '>50K') ,data.income))\n",
    "\n",
    "# TODO: O percentual de indivíduos com remuneração anual superior à $50,000\n",
    "greater_percent = float(n_greater_50k)/n_records*100\n",
    "\n",
    "# Exibindo os resultados\n",
    "print \"Total number of records: {}\".format(n_records)\n",
    "print \"Individuals making more than $50,000: {}\".format(n_greater_50k)\n",
    "print \"Individuals making at most $50,000: {}\".format(n_at_most_50k)\n",
    "print \"Percentage of individuals making more than $50,000: {:.2f}%\".format(greater_percent)\n",
    "print \"Garbage found: {}\".format(garbage)"
   ]
  },
  {
   "cell_type": "markdown",
   "metadata": {},
   "source": [
    "** Explorando as colunas **\n",
    "* **age**: contínuo. \n",
    "* **workclass**: Private, Self-emp-not-inc, Self-emp-inc, Federal-gov, Local-gov, State-gov, Without-pay, Never-worked. \n",
    "* **education**: Bachelors, Some-college, 11th, HS-grad, Prof-school, Assoc-acdm, Assoc-voc, 9th, 7th-8th, 12th, Masters, 1st-4th, 10th, Doctorate, 5th-6th, Preschool. \n",
    "* **education-num**: contínuo. \n",
    "* **marital-status**: Married-civ-spouse, Divorced, Never-married, Separated, Widowed, Married-spouse-absent, Married-AF-spouse. \n",
    "* **occupation**: Tech-support, Craft-repair, Other-service, Sales, Exec-managerial, Prof-specialty, Handlers-cleaners, Machine-op-inspct, Adm-clerical, Farming-fishing, Transport-moving, Priv-house-serv, Protective-serv, Armed-Forces. \n",
    "* **relationship**: Wife, Own-child, Husband, Not-in-family, Other-relative, Unmarried. \n",
    "* **race**: Black, White, Asian-Pac-Islander, Amer-Indian-Eskimo, Other. \n",
    "* **sex**: Female, Male. \n",
    "* **capital-gain**: contínuo. \n",
    "* **capital-loss**: contínuo. \n",
    "* **hours-per-week**: contínuo. \n",
    "* **native-country**: United-States, Cambodia, England, Puerto-Rico, Canada, Germany, Outlying-US(Guam-USVI-etc), India, Japan, Greece, South, China, Cuba, Iran, Honduras, Philippines, Italy, Poland, Jamaica, Vietnam, Mexico, Portugal, Ireland, France, Dominican-Republic, Laos, Ecuador, Taiwan, Haiti, Columbia, Hungary, Guatemala, Nicaragua, Scotland, Thailand, Yugoslavia, El-Salvador, Trinadad&Tobago, Peru, Hong, Holand-Netherlands."
   ]
  },
  {
   "cell_type": "markdown",
   "metadata": {},
   "source": [
    "----\n",
    "## Preparando os dados\n",
    "Antes de que os dados possam ser utilizados como input para algoritmos de machine learning, muitas vezes eles precisam ser tratados, formatados e reestruturados — este processo é conhecido como **pré-processamento**. Felizmente neste conjunto de dados não existem registros inconsistentes para tratamento, porém algumas colunas precisam ser ajustadas. Este pré-processamento pode ajudar muito com o resultado e poder de predição de quase todos os algoritmos de aprendizado."
   ]
  },
  {
   "cell_type": "markdown",
   "metadata": {},
   "source": [
    "### Transformando os principais desvios das colunas contínuas\n",
    "Um conjunto de dados pode conter ao menos uma coluna onde os valores tendem a se próximar para um único número, mas também podem conter registros com o mesmo atributo contendo um valor muito maior ou muito menor do que esta tendência. Algoritmos podem ser sensíveis para estes casos de distribuição de valores e este fator pode prejudicar sua performance se a distribuição não estiver normalizada de maneira adequada. Com o conjunto de dados do censo, dois atributos se encaixam nesta descrição: '`capital-gain'` e `'capital-loss'`.\n",
    "\n",
    "Execute o código da célula abaixo para plotar um histograma destes dois atributos. Repare na distribuição destes valores."
   ]
  },
  {
   "cell_type": "code",
   "execution_count": 11,
   "metadata": {},
   "outputs": [
    {
     "data": {
      "image/png": "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\n",
      "text/plain": [
       "<Figure size 792x360 with 2 Axes>"
      ]
     },
     "metadata": {},
     "output_type": "display_data"
    }
   ],
   "source": [
    "# Dividindo os dados entre features e coluna alvo\n",
    "income_raw = data['income']\n",
    "features_raw = data.drop('income', axis = 1)\n",
    "\n",
    "# Visualizando os principais desvios das colunas contínuas entre os dados\n",
    "vs.distribution(data)"
   ]
  },
  {
   "cell_type": "markdown",
   "metadata": {},
   "source": [
    "Para atributos com distribuição muito distorcida, tais como `'capital-gain'` e `'capital-loss'`, é uma prática comum aplicar uma <a href=\"https://en.wikipedia.org/wiki/Data_transformation_(statistics)\">transformação logarítmica</a> nos dados para que os valores muito grandes e muito pequenos não afetem a performance do algoritmo de aprendizado. Usar a transformação logarítmica reduz significativamente os limites dos valores afetados pelos outliers (valores muito grandes ou muito pequenos). Deve-se tomar cuidado ao aplicar esta transformação, poir o logaritmo de `0` é indefinido, portanto temos que incrementar os valores em uma pequena quantia acima de `0` para aplicar o logaritmo adequadamente.\n",
    "\n",
    "Execute o código da célula abaixo para realizar a transformação nos dados e visualizar os resultados. De novo, note os valores limite e como os valores estão distribuídos."
   ]
  },
  {
   "cell_type": "code",
   "execution_count": 12,
   "metadata": {},
   "outputs": [
    {
     "data": {
      "image/png": "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\n",
      "text/plain": [
       "<Figure size 792x360 with 2 Axes>"
      ]
     },
     "metadata": {},
     "output_type": "display_data"
    }
   ],
   "source": [
    "# Aplicando a transformação de log nos registros distorcidos.\n",
    "skewed = ['capital-gain', 'capital-loss']\n",
    "features_log_transformed = pd.DataFrame(data = features_raw)\n",
    "features_log_transformed[skewed] = features_raw[skewed].apply(lambda x: np.log(x + 1))\n",
    "\n",
    "# Visualizando as novas distribuições após a transformação.\n",
    "vs.distribution(features_log_transformed, transformed = True)"
   ]
  },
  {
   "cell_type": "markdown",
   "metadata": {},
   "source": [
    "### Normalizando atributos numéricos\n",
    "Além das transformações em atributos distorcidos, é uma boa prática comum realizar algum tipo de adaptação de escala nos atributos numéricos. Ajustar a escala nos dados não modifica o formato da distribuição de cada coluna (tais como `'capital-gain'` ou `'capital-loss'` acima); no entanto, a normalização garante que cada atributo será tratado com o mesmo peso durante a aplicação de aprendizado supervisionado. Note que uma vez aplicada a escala, a observação dos dados não terá o significado original, como exemplificado abaixo.\n",
    "\n",
    "Execute o código da célula abaixo para normalizar cada atributo numérico, nós usaremos ara isso a [`sklearn.preprocessing.MinMaxScaler`](http://scikit-learn.org/stable/modules/generated/sklearn.preprocessing.MinMaxScaler.html)."
   ]
  },
  {
   "cell_type": "code",
   "execution_count": 13,
   "metadata": {},
   "outputs": [
    {
     "data": {
      "text/html": [
       "<div>\n",
       "<style scoped>\n",
       "    .dataframe tbody tr th:only-of-type {\n",
       "        vertical-align: middle;\n",
       "    }\n",
       "\n",
       "    .dataframe tbody tr th {\n",
       "        vertical-align: top;\n",
       "    }\n",
       "\n",
       "    .dataframe thead th {\n",
       "        text-align: right;\n",
       "    }\n",
       "</style>\n",
       "<table border=\"1\" class=\"dataframe\">\n",
       "  <thead>\n",
       "    <tr style=\"text-align: right;\">\n",
       "      <th></th>\n",
       "      <th>age</th>\n",
       "      <th>workclass</th>\n",
       "      <th>education_level</th>\n",
       "      <th>education-num</th>\n",
       "      <th>marital-status</th>\n",
       "      <th>occupation</th>\n",
       "      <th>relationship</th>\n",
       "      <th>race</th>\n",
       "      <th>sex</th>\n",
       "      <th>capital-gain</th>\n",
       "      <th>capital-loss</th>\n",
       "      <th>hours-per-week</th>\n",
       "      <th>native-country</th>\n",
       "    </tr>\n",
       "  </thead>\n",
       "  <tbody>\n",
       "    <tr>\n",
       "      <th>0</th>\n",
       "      <td>0.301370</td>\n",
       "      <td>State-gov</td>\n",
       "      <td>Bachelors</td>\n",
       "      <td>0.800000</td>\n",
       "      <td>Never-married</td>\n",
       "      <td>Adm-clerical</td>\n",
       "      <td>Not-in-family</td>\n",
       "      <td>White</td>\n",
       "      <td>Male</td>\n",
       "      <td>0.667492</td>\n",
       "      <td>0.0</td>\n",
       "      <td>0.397959</td>\n",
       "      <td>United-States</td>\n",
       "    </tr>\n",
       "    <tr>\n",
       "      <th>1</th>\n",
       "      <td>0.452055</td>\n",
       "      <td>Self-emp-not-inc</td>\n",
       "      <td>Bachelors</td>\n",
       "      <td>0.800000</td>\n",
       "      <td>Married-civ-spouse</td>\n",
       "      <td>Exec-managerial</td>\n",
       "      <td>Husband</td>\n",
       "      <td>White</td>\n",
       "      <td>Male</td>\n",
       "      <td>0.000000</td>\n",
       "      <td>0.0</td>\n",
       "      <td>0.122449</td>\n",
       "      <td>United-States</td>\n",
       "    </tr>\n",
       "    <tr>\n",
       "      <th>2</th>\n",
       "      <td>0.287671</td>\n",
       "      <td>Private</td>\n",
       "      <td>HS-grad</td>\n",
       "      <td>0.533333</td>\n",
       "      <td>Divorced</td>\n",
       "      <td>Handlers-cleaners</td>\n",
       "      <td>Not-in-family</td>\n",
       "      <td>White</td>\n",
       "      <td>Male</td>\n",
       "      <td>0.000000</td>\n",
       "      <td>0.0</td>\n",
       "      <td>0.397959</td>\n",
       "      <td>United-States</td>\n",
       "    </tr>\n",
       "    <tr>\n",
       "      <th>3</th>\n",
       "      <td>0.493151</td>\n",
       "      <td>Private</td>\n",
       "      <td>11th</td>\n",
       "      <td>0.400000</td>\n",
       "      <td>Married-civ-spouse</td>\n",
       "      <td>Handlers-cleaners</td>\n",
       "      <td>Husband</td>\n",
       "      <td>Black</td>\n",
       "      <td>Male</td>\n",
       "      <td>0.000000</td>\n",
       "      <td>0.0</td>\n",
       "      <td>0.397959</td>\n",
       "      <td>United-States</td>\n",
       "    </tr>\n",
       "    <tr>\n",
       "      <th>4</th>\n",
       "      <td>0.150685</td>\n",
       "      <td>Private</td>\n",
       "      <td>Bachelors</td>\n",
       "      <td>0.800000</td>\n",
       "      <td>Married-civ-spouse</td>\n",
       "      <td>Prof-specialty</td>\n",
       "      <td>Wife</td>\n",
       "      <td>Black</td>\n",
       "      <td>Female</td>\n",
       "      <td>0.000000</td>\n",
       "      <td>0.0</td>\n",
       "      <td>0.397959</td>\n",
       "      <td>Cuba</td>\n",
       "    </tr>\n",
       "  </tbody>\n",
       "</table>\n",
       "</div>"
      ],
      "text/plain": [
       "        age          workclass education_level  education-num  \\\n",
       "0  0.301370          State-gov       Bachelors       0.800000   \n",
       "1  0.452055   Self-emp-not-inc       Bachelors       0.800000   \n",
       "2  0.287671            Private         HS-grad       0.533333   \n",
       "3  0.493151            Private            11th       0.400000   \n",
       "4  0.150685            Private       Bachelors       0.800000   \n",
       "\n",
       "        marital-status          occupation    relationship    race      sex  \\\n",
       "0        Never-married        Adm-clerical   Not-in-family   White     Male   \n",
       "1   Married-civ-spouse     Exec-managerial         Husband   White     Male   \n",
       "2             Divorced   Handlers-cleaners   Not-in-family   White     Male   \n",
       "3   Married-civ-spouse   Handlers-cleaners         Husband   Black     Male   \n",
       "4   Married-civ-spouse      Prof-specialty            Wife   Black   Female   \n",
       "\n",
       "   capital-gain  capital-loss  hours-per-week  native-country  \n",
       "0      0.667492           0.0        0.397959   United-States  \n",
       "1      0.000000           0.0        0.122449   United-States  \n",
       "2      0.000000           0.0        0.397959   United-States  \n",
       "3      0.000000           0.0        0.397959   United-States  \n",
       "4      0.000000           0.0        0.397959            Cuba  "
      ]
     },
     "metadata": {},
     "output_type": "display_data"
    }
   ],
   "source": [
    "# Importando sklearn.preprocessing.StandardScaler\n",
    "from sklearn.preprocessing import MinMaxScaler\n",
    "\n",
    "# Inicializando um aplicador de escala e aplicando em seguida aos atributos\n",
    "scaler = MinMaxScaler() # default=(0, 1)\n",
    "numerical = ['age', 'education-num', 'capital-gain', 'capital-loss', 'hours-per-week']\n",
    "\n",
    "features_log_minmax_transform = pd.DataFrame(data = features_log_transformed)\n",
    "features_log_minmax_transform[numerical] = scaler.fit_transform(features_log_transformed[numerical])\n",
    "\n",
    "# Exibindo um exemplo de registro com a escala aplicada\n",
    "display(features_log_minmax_transform.head(n=5))"
   ]
  },
  {
   "cell_type": "markdown",
   "metadata": {},
   "source": [
    "### Implementação: Pré-processamento dos dados\n",
    "\n",
    "A partir da tabela em **Explorando os dados** acima, nós podemos observar que existem diversos atributos não-numéricos para cada registro. Usualmente, algoritmos de aprendizado esperam que os inputs sejam numéricos, o que requer que os atributos não numéricos (chamados de *variáveis de categoria*) sejam convertidos. Uma maneira popular de converter as variáveis de categoria é utilizar a estratégia **one-hot encoding**. Esta estratégia cria uma variável para cada categoria possível de cada atributo não numérico. Por exemplo, assuma que `algumAtributo` possuí três valores possíveis: `A`, `B`, ou `C`. Nós então transformamos este atributo em três novos atributos: `algumAtributo_A`, `algumAtributo_B` e `algumAtributo_C`.\n",
    "\n",
    "\n",
    "|   | algumAtributo |                    | algumAtributo_A | algumAtributo_B | algumAtributo_C |\n",
    "| :-: | :-: |                            | :-: | :-: | :-: |\n",
    "| 0 |  B  |  | 0 | 1 | 0 |\n",
    "| 1 |  C  | ----> one-hot encode ----> | 0 | 0 | 1 |\n",
    "| 2 |  A  |  | 1 | 0 | 0 |\n",
    "\n",
    "Além disso, assim como os atributos não-numéricos, precisaremos converter a coluna alvo não-numérica, `'income'`, para valores numéricos para que o algoritmo de aprendizado funcione. Uma vez que só existem duas categorias possíveis para esta coluna (\"<=50K\" e \">50K\"), nós podemos evitar a utilização do one-hot encoding e simplesmente transformar estas duas categorias para `0` e `1`, respectivamente. No trecho de código abaixo, você precisará implementar o seguinte:\n",
    " - Utilizar [`pandas.get_dummies()`](http://pandas.pydata.org/pandas-docs/stable/generated/pandas.get_dummies.html?highlight=get_dummies#pandas.get_dummies) para realizar o one-hot encoding nos dados da `'features_log_minmax_transform'`.\n",
    " - Converter a coluna alvo `'income_raw'` para re.\n",
    "   - Transforme os registros com \"<=50K\" para `0` e os registros com \">50K\" para `1`."
   ]
  },
  {
   "cell_type": "code",
   "execution_count": 15,
   "metadata": {
    "scrolled": true
   },
   "outputs": [
    {
     "name": "stdout",
     "output_type": "stream",
     "text": [
      "103 total features after one-hot encoding.\n",
      "['age', 'education-num', 'capital-gain', 'capital-loss', 'hours-per-week', 'workclass_ Federal-gov', 'workclass_ Local-gov', 'workclass_ Private', 'workclass_ Self-emp-inc', 'workclass_ Self-emp-not-inc', 'workclass_ State-gov', 'workclass_ Without-pay', 'education_level_ 10th', 'education_level_ 11th', 'education_level_ 12th', 'education_level_ 1st-4th', 'education_level_ 5th-6th', 'education_level_ 7th-8th', 'education_level_ 9th', 'education_level_ Assoc-acdm', 'education_level_ Assoc-voc', 'education_level_ Bachelors', 'education_level_ Doctorate', 'education_level_ HS-grad', 'education_level_ Masters', 'education_level_ Preschool', 'education_level_ Prof-school', 'education_level_ Some-college', 'marital-status_ Divorced', 'marital-status_ Married-AF-spouse', 'marital-status_ Married-civ-spouse', 'marital-status_ Married-spouse-absent', 'marital-status_ Never-married', 'marital-status_ Separated', 'marital-status_ Widowed', 'occupation_ Adm-clerical', 'occupation_ Armed-Forces', 'occupation_ Craft-repair', 'occupation_ Exec-managerial', 'occupation_ Farming-fishing', 'occupation_ Handlers-cleaners', 'occupation_ Machine-op-inspct', 'occupation_ Other-service', 'occupation_ Priv-house-serv', 'occupation_ Prof-specialty', 'occupation_ Protective-serv', 'occupation_ Sales', 'occupation_ Tech-support', 'occupation_ Transport-moving', 'relationship_ Husband', 'relationship_ Not-in-family', 'relationship_ Other-relative', 'relationship_ Own-child', 'relationship_ Unmarried', 'relationship_ Wife', 'race_ Amer-Indian-Eskimo', 'race_ Asian-Pac-Islander', 'race_ Black', 'race_ Other', 'race_ White', 'sex_ Female', 'sex_ Male', 'native-country_ Cambodia', 'native-country_ Canada', 'native-country_ China', 'native-country_ Columbia', 'native-country_ Cuba', 'native-country_ Dominican-Republic', 'native-country_ Ecuador', 'native-country_ El-Salvador', 'native-country_ England', 'native-country_ France', 'native-country_ Germany', 'native-country_ Greece', 'native-country_ Guatemala', 'native-country_ Haiti', 'native-country_ Holand-Netherlands', 'native-country_ Honduras', 'native-country_ Hong', 'native-country_ Hungary', 'native-country_ India', 'native-country_ Iran', 'native-country_ Ireland', 'native-country_ Italy', 'native-country_ Jamaica', 'native-country_ Japan', 'native-country_ Laos', 'native-country_ Mexico', 'native-country_ Nicaragua', 'native-country_ Outlying-US(Guam-USVI-etc)', 'native-country_ Peru', 'native-country_ Philippines', 'native-country_ Poland', 'native-country_ Portugal', 'native-country_ Puerto-Rico', 'native-country_ Scotland', 'native-country_ South', 'native-country_ Taiwan', 'native-country_ Thailand', 'native-country_ Trinadad&Tobago', 'native-country_ United-States', 'native-country_ Vietnam', 'native-country_ Yugoslavia']\n"
     ]
    }
   ],
   "source": [
    "# TODO: Utilize o one-hot encoding nos dados em 'features_log_minmax_transform' utilizando pandas.get_dummies()\n",
    "features_final = pd.get_dummies(features_log_minmax_transform)\n",
    "\n",
    "# TODO: Faça o encode da coluna 'income_raw' para valores numéricos\n",
    "income = income_raw.map(lambda x : x == \">50K\" )\n",
    "\n",
    "# Exiba o número de colunas depois do one-hot encoding\n",
    "encoded = list(features_final.columns)\n",
    "print \"{} total features after one-hot encoding.\".format(len(encoded))\n",
    "\n",
    "# Descomente a linha abaixo para ver as colunas após o encode\n",
    "print encoded"
   ]
  },
  {
   "cell_type": "markdown",
   "metadata": {},
   "source": [
    "### Embaralhar e dividir os dados\n",
    "Agora todas as _variáveis de categoria_ foram convertidas em atributos numéricos e todos os atributos numéricos foram normalizados. Como sempre, nós agora dividiremos os dados entre conjuntos de treinamento e de teste. 80% dos dados serão utilizados para treinamento e 20% para teste.\n",
    "\n",
    "Execute o código da célula abaixo para realizar divisão."
   ]
  },
  {
   "cell_type": "code",
   "execution_count": 28,
   "metadata": {},
   "outputs": [
    {
     "name": "stdout",
     "output_type": "stream",
     "text": [
      "Training set has 36177 samples.\n",
      "Testing set has 9045 samples.\n"
     ]
    }
   ],
   "source": [
    "# Importar train_test_split\n",
    "from sklearn.cross_validation import train_test_split\n",
    "\n",
    "# Dividir os 'atributos' e 'income' entre conjuntos de treinamento e de testes.\n",
    "X_train, X_test, y_train, y_test = train_test_split(features_final, \n",
    "                                                    income, \n",
    "                                                    test_size = 0.2, \n",
    "                                                    random_state = 0)\n",
    "\n",
    "# Show the results of the split\n",
    "print \"Training set has {} samples.\".format(X_train.shape[0])\n",
    "print \"Testing set has {} samples.\".format(X_test.shape[0])"
   ]
  },
  {
   "cell_type": "markdown",
   "metadata": {},
   "source": [
    "----\n",
    "## Avaliando a performance do modelo\n",
    "Nesta seção nós investigaremos quatro algoritmos diferentes e determinaremos qual deles é melhor para a modelagem dos dados. Três destes algoritmos serão algoritmos de aprendizado supervisionado de sua escolha e o quarto algoritmo é conhecido como *naive predictor*."
   ]
  },
  {
   "cell_type": "markdown",
   "metadata": {},
   "source": [
    "### Métricas e o Naive predictor\n",
    "\n",
    "*CharityML*, equpada com sua pesquisa, sabe que os indivíduos que fazem mais do que \\$50,000 possuem maior probabilidade de doar para a sua campanha de caridade. Por conta disto, a *CharityML* está particularmente interessada em predizer com acurácia quais indivíduos possuem remuneração acima de \\$50,000. Parece uqe utilizar **acurácia (accuracy)** como uma métrica para avaliar a performance de um modelo é um parâmetro adequado. Além disso, identificar alguém que *não possui* remuneração acima de \\$50,000 como alguém que recebe acima deste valor seria ruim para a *CharityML*, uma vez que eles estão procurando por indivíduos que desejam doar. Com isso, a habilidade do modelo em predizer com preisão aqueles que possuem a remuneração acima dos \\$50,000 é *mais importante* do que a habilidade de realizar o **recall** destes indivíduos. Nós podemos utilizar a fórmula **F-beta score** como uma métrica que considera ambos: precision e recall.\n",
    "\n",
    "\n",
    "$$ F_{\\beta} = (1 + \\beta^2) \\cdot \\frac{precision \\cdot recall}{\\left( \\beta^2 \\cdot precision \\right) + recall} $$\n",
    "\n",
    "Em particular, quando $\\beta = 0.5$, maior ênfase é atribuída para a variável precision. Isso é chamado de **F$_{0.5}$ score** (ou F-score, simplificando).\n",
    "\n",
    "Analisando a distribuição de classes (aqueles que possuem remuneração até \\$50,000 e aqueles que possuem remuneração superior), fica claro que a maioria dos indivíduos não possui remuneração acima de \\$50,000. Isto pode ter grande impacto na **acurácia (accuracy)**, uma vez que nós poderíamos simplesmente dizer *\"Esta pessoa não possui remuneração acima de \\$50,000\"* e estar certos em boa parte das vezes, sem ao menos olhar os dados! Fazer este tipo de afirmação seria chamado de **naive**, uma vez que não consideramos nenhuma informação para balisar este argumento. É sempre importante considerar a *naive prediction* para seu conjunto de dados, para ajudar a estabelecer um benchmark para análise da performance dos modelos. Com isso, sabemos que utilizar a naive prediction não traria resultado algum: Se a predição apontasse que todas as pessoas possuem remuneração inferior à \\$50,000, a *CharityML* não identificaria ninguém como potencial doador. \n",
    "\n",
    "\n",
    "\n",
    "#### Nota: Revisando: accuracy, precision e recall\n",
    "\n",
    "** Accuracy ** mede com que frequência o classificador faz a predição correta. É a proporção entre o número de predições corretas e o número total de predições (o número de registros testados).\n",
    "\n",
    "** Precision ** informa qual a proporção de mensagens classificamos como spam eram realmente spam. Ou seja, é a proporção de verdadeiros positivos (mensagens classificadas como spam que eram realmente spam) sobre todos os positivos (todas as palavras classificadas como spam, independente se a classificação estava correta), em outras palavras, é a proporção\n",
    "\n",
    "`[Verdadeiros positivos/(Verdadeiros positivos + Falso positivos)]`\n",
    "\n",
    "** Recall(sensibilidade)** nos informa qual a proporção das mensagens que eram spam que foram corretamente classificadas como spam. É a proporção entre os verdadeiros positivos (classificados como spam, que realmente eram spam) sobre todas as palavras que realmente eram spam. Em outras palavras, é a proporção entre\n",
    "\n",
    "`[Verdadeiros positivos/(Verdadeiros positivos + Falso negativos)]`\n",
    "\n",
    "Para problemas de classificação distorcidos em suas distribuições, como no nosso caso, por exemplo, se tivéssemos 100 mensagems de texto e apenas 2 fossem spam e todas as outras não fossem, a \"accuracy\" por si só não seria uma métrica tão boa. Nós poderiamos classificar 90 mensagems como \"não-spam\" (incluindo as 2 que eram spam mas que teriam sido classificadas como não-spam e, por tanto, seriam falso negativas.) e 10 mensagems como spam (todas as 10 falso positivas) e ainda assim teriamos uma boa pontuação de accuracy. Para estess casos, precision e recall são muito úteis. Estas duas métricas podem ser combinadas para resgatar o F1 score, que é calculado através da média(harmônica) dos valores de precision e de recall. Este score pode variar entre 0 e 1, sendo 1 o melhor resultado possível para o F1 score (consideramos a média harmônica pois estamos lidando com proporções)."
   ]
  },
  {
   "cell_type": "code",
<<<<<<< HEAD
   "execution_count": 47,
   "metadata": {},
   "outputs": [
    {
     "name": "stdout",
     "output_type": "stream",
     "text": [
      "Naive Predictor: [Accuracy score: 0.2478, F-score: 0.2917]\n"
=======
   "execution_count": 1,
   "metadata": {},
   "outputs": [
    {
     "ename": "NameError",
     "evalue": "name 'np' is not defined",
     "output_type": "error",
     "traceback": [
      "\u001b[0;31m---------------------------------------------------------------------------\u001b[0m",
      "\u001b[0;31mNameError\u001b[0m                                 Traceback (most recent call last)",
      "\u001b[0;32m<ipython-input-1-1576c9c983c9>\u001b[0m in \u001b[0;36m<module>\u001b[0;34m()\u001b[0m\n\u001b[0;32m----> 1\u001b[0;31m \u001b[0mTP\u001b[0m \u001b[0;34m=\u001b[0m \u001b[0mnp\u001b[0m\u001b[0;34m.\u001b[0m\u001b[0msum\u001b[0m\u001b[0;34m(\u001b[0m\u001b[0mincome\u001b[0m\u001b[0;34m)\u001b[0m \u001b[0;31m# Contando pois este é o caso \"naive\". Note que 'income' são os dados 'income_raw' convertidos para valores numéricos durante o passo de pré-processamento de dados.\u001b[0m\u001b[0;34m\u001b[0m\u001b[0m\n\u001b[0m\u001b[1;32m      2\u001b[0m \u001b[0;34m\u001b[0m\u001b[0m\n\u001b[1;32m      3\u001b[0m \u001b[0mFP\u001b[0m \u001b[0;34m=\u001b[0m \u001b[0mincome\u001b[0m\u001b[0;34m.\u001b[0m\u001b[0mcount\u001b[0m\u001b[0;34m(\u001b[0m\u001b[0;34m)\u001b[0m \u001b[0;34m-\u001b[0m \u001b[0mTP\u001b[0m \u001b[0;31m# Específico para o caso naive\u001b[0m\u001b[0;34m\u001b[0m\u001b[0m\n\u001b[1;32m      4\u001b[0m \u001b[0;34m\u001b[0m\u001b[0m\n\u001b[1;32m      5\u001b[0m \u001b[0mTN\u001b[0m \u001b[0;34m=\u001b[0m \u001b[0;36m0\u001b[0m \u001b[0;31m# Sem predições negativas para o caso naive\u001b[0m\u001b[0;34m\u001b[0m\u001b[0m\n",
      "\u001b[0;31mNameError\u001b[0m: name 'np' is not defined"
>>>>>>> 6b0c58eaf2a74204c85ea558afb6eda106cd851c
     ]
    }
   ],
   "source": [
    "from __future__ import division\n",
    "\n",
    "TP = np.sum(income) # Contando pois este é o caso \"naive\". Note que 'income' são os dados 'income_raw' convertidos para valores numéricos durante o passo de pré-processamento de dados.\n",
    "\n",
    "FP = income.count() - TP # Específico para o caso naive\n",
    "\n",
    "TN = 0 # Sem predições negativas para o caso naive\n",
    "FN = 0 # Sem predições negativas para o caso naive\n",
    "\n",
    "beta=0.5\n",
    "# TODO: Calcular accuracy, precision e recall\n",
    "accuracy = greater_percent / 100\n",
    "recall = n_greater_50k/(n_greater_50k + 0)\n",
    "precision = n_greater_50k/(n_greater_50k + n_at_most_50k)\n",
    "\n",
    "# TODO: Calcular o F-score utilizando a fórmula acima para o beta = 0.5 e os valores corretos de precision e recall.\n",
    "fscore = ((1 + beta*beta) * (precision*recall)) / ((pow(beta,2) * precision)  + recall)\n",
    "\n",
    "# Exibir os resultados \n",
    "print \"Naive Predictor: [Accuracy score: {:.4f}, F-score: {:.4f}]\".format(accuracy, fscore)"
   ]
  },
  {
   "cell_type": "markdown",
   "metadata": {},
   "source": [
    "### Questão 1 - Performance do Naive Predictor\n",
    "* Se escolhessemos um modelo que sempre prediz que um indivíduo possui remuneração acima de $50,000, qual seria a accuracy e o F-score considerando este conjunto de dados? Você deverá utilizar o código da célula abaixo e atribuir os seus resultados para as variáveis `'accuracy'` e `'fscore'` que serão usadas posteriormente.\n",
    "\n",
    "** Por favor, note ** que o propósito ao gerar um naive predictor é simplesmente exibir como um modelo sem nenhuma inteligência se comportaria. No mundo real, idealmente o seu modelo de base será o resultado de um modelo anterior ou poderia ser baseado em um paper no qual você se basearia para melhorar. Quando não houver qualquer benchmark de modelo, utilizar um naive predictor será melhor do que uma escolha aleatória.\n",
    "\n",
    "** DICA: ** \n",
    "\n",
    "* Quando temos um modelo que sempre prediz '1' (e.x o indivíduo possui remuneração superior à 50k) então nosso modelo não terá Verdadeiros Negativos ou Falso Negativos, pois nós não estaremos afirmando que qualquer dos valores é negativo (ou '0') durante a predição. Com isso, nossa accuracy neste caso se torna o mesmo valor da precision (Verdadeiros positivos/ (Verdadeiros positivos + Falso positivos)) pois cada predição que fizemos com o valor '1' que deveria ter o valor '0' se torna um falso positivo; nosso denominador neste caso é o número total de registros.\n",
    "* Nossa pontuação de Recall(Verdadeiros positivos/(Verdadeiros Positivos + Falsos negativos)) será 1 pois não teremos Falsos negativos."
   ]
  },
  {
   "cell_type": "markdown",
   "metadata": {},
   "source": [
    "###  Modelos de Aprendizado Supervisionado\n",
    "**Estes são alguns dos modelos de aprendizado supervisionado disponíveis em** [`scikit-learn`](http://scikit-learn.org/stable/supervised_learning.html)\n",
    "- Gaussian Naive Bayes (GaussianNB)\n",
    "- Decision Trees (Árvores de decisão)\n",
    "- Ensemble Methods (Bagging, AdaBoost, Random Forest, Gradient Boosting)\n",
    "- K-Nearest Neighbors (KNeighbors)\n",
    "- Stochastic Gradient Descent Classifier (SGDC)\n",
    "- Support Vector Machines (SVM)\n",
    "- Logistic Regression"
   ]
  },
  {
   "cell_type": "markdown",
   "metadata": {},
   "source": [
    "### Questão 2 - Aplicação do Modelo\n",
    "Liste três dos modelos de aprendizado supervisionado acima que são apropriados para este problema que você irá testar nos dados do censo. Para cada modelo escolhido\n",
    "\n",
    "- Descreva uma situação do mundo real onde este modelo pode ser utilizado. \n",
    "- Quais são as vantagems da utilização deste modelo; quando ele performa bem?\n",
    "- Quais são as fraquesas do modelo; quando ele performa mal?\n",
    "- O que torna este modelo um bom candidato para o problema, considerando o que você sabe sobre o conjunto de dados?\n",
    "\n",
    "** DICA: **\n",
    "\n",
    "Estruture sua resposta no mesmo formato acima^, com 4 partes para cada um dos modelos que você escolher. Por favor, inclua referências em cada uma das respostas."
   ]
  },
  {
   "cell_type": "markdown",
   "metadata": {},
   "source": [
    "**Resposta: **\n",
    "\n",
<<<<<<< HEAD
    "SVM: Este modelo pode ser usado tanto para regressão quanto para classificação.  Em um exemplo didatico e bastante simplorio ele pode ser utilizado para determinar a melhor posição para construir uma cerca separando dois tipos de anamais em um determinado campo.\n",
    "\n",
    "A vantagem de utilizar este modelo é que ele utiliza vetores de suporte criando uma margem de separação entre os tipos de dados tornando asim o modelo mais confiavel.  Ele performa bem em caso em que haja muitas features, como por exemplo classificação de texto em um problema com o bag of words. Também é um algoritmo que eu utilizaria para estabeler algum tipo de ranking, 'learn to rank'.\n",
    "\n",
    "As desvantagens de utilizar o modelo é que ele demora mais em massas de dados maiores, escolher uma boa função de kernel é dificil assim como o ajuste dos seus parâmetros, também ele é mais suscetível a overfitting.  Ele performa mal em casos de dados estruturados e em problemas envolvendo classificação audio/visual onde redes neurais funcionam melhor.\n",
    "\n",
    "Acredito ser um bom algoritmo para resolver o problema pois além de classificar a margem estabelecida por ele deve tornar a classificação mais segura.\n",
    "\n",
    "\n",
    "Decision Tree\n",
    "\n",
    "Uma situação que este modelo poderia ser aplicada no mundo real é a deteção de fraudes em transações de cartão de crédito.\n",
    "\n",
    "As vantagens de utilizar decisions trees são a facilidade de codificar e entender o modelo, ele pode ser entendido como regras para passagens seguintes.\n",
    "\n",
    "As desvantages são que eles são instaveis, uma pequena variação nos dados pode gerar um resultado errado.  Elas não poderiam ser utilizadas para regressão.\n",
    "\n",
    "Acredito que ela pode ser um bom candidato para resolver o problema pois é possivel separar os dados e agir em estrutura de árvore.\n",
    "\n",
    "K-Nearest Neighbors\n",
    "\n",
    "Este modelo pode ser utilizado para determinar, por exemplo, a melhor posição para uma pizzaria baseado na localização dos seus consumidores.\n",
    "\n",
    "As vantagens do K-Nearest Neighbors são: facilidade de interpretar os resultados e alto poder de predição.\n",
    "\n",
    "As desvantagens são custo alto de memória, alto custo de processamento e demora na fase de predição.  Acredito que este modelo performe mal em casos de muitas variaveis.\n",
    "\n",
    "Acredito ser um bom algoritmo pois pode-se agrupar as pessoas que recebem mais de 50k e detectar quem mais se aproxima delas, realizando assim a classificação."
=======
    "Árvores de decisão:\n",
    "\n",
    "O modelo de árvore de decisão pode ser utilizado em problemas que envolvem n variáveis, como o caso do projeto anterior de predição de sobrevivencia dos passageiros do titanic.\n",
    "\n",
    "Vantages/Quando ele performa bem:\n",
    "Esse algoritmo performa bem mesmo com uma massa de dados pequena, pode ser combinando com outras formas de decisão.\n",
    "\n",
    "Desvantagens/Quando ele performa mal:\n",
    "Ele pode se tornar complexo, especialmente se os dados forem incertos ou se as saídas estiverem linkadas. O algoritmo não performa bem com dados não númericos.\n",
    "\n",
    "O que torna este modelo um bom candidato para o problema:\n",
    "O fato de existirem n variavéis e o fato da nossa resposta ser reduzida a uma condição verdadeira/falsa\n",
    "\n",
    "Ensemble Methods\n",
    "Esta estratégia visa combinar mais de um modelo de forma que o resultado não se limite a apenas um modelo.  Um exemplo pode ser um aplicativo de perguntas e respostas em que de acordo com o assunto um modelo apropriado seja escolhido.\n"
>>>>>>> 6b0c58eaf2a74204c85ea558afb6eda106cd851c
   ]
  },
  {
   "cell_type": "markdown",
   "metadata": {},
   "source": [
    "### Implementação - Criando um Pipeline de Treinamento e Predição\n",
    "Para avaliar adequadamente a performance de cada um dos modelos que você escolheu é importante que você crie um pipeline de treinamento e predição que te permite de maneira rápida e eficiente treinar os modelos utilizando vários tamanhos de conjuntos de dados para treinamento, além de performar predições nos dados de teste. Sua implementação aqui será utilizada na próxima seção. No bloco de código abaixo, você precisará implementar o seguinte:\n",
    " - Importar `fbeta_score` e `accuracy_score` de [`sklearn.metrics`](http://scikit-learn.org/stable/modules/classes.html#sklearn-metrics-metrics).\n",
    " - Adapte o algoritmo para os dados de treinamento e registre o tempo de treinamento. \n",
    " - Realize predições nos dados de teste `X_test`, e também nos 300 primeiros pontos de treinamento `X_train[:300]`.\n",
    "   - Registre o tempo total de predição. \n",
    " - Calcule a acurácia tanto para o conjundo de dados de treino quanto para o conjunto de testes.\n",
    " - Calcule o F-score para os dois conjuntos de dados: treino e testes. \n",
    "   - Garanta que você configurou o parâmetro `beta`! "
   ]
  },
  {
   "cell_type": "code",
   "execution_count": 48,
   "metadata": {},
   "outputs": [
    {
     "name": "stdout",
     "output_type": "stream",
     "text": [
      "SVC trained on 361.77 samples.\n",
      "SVC trained on 3617.7 samples.\n",
      "SVC trained on 36177 samples.\n",
      "DecisionTreeClassifier trained on 361.77 samples.\n",
      "DecisionTreeClassifier trained on 3617.7 samples.\n",
      "DecisionTreeClassifier trained on 36177 samples.\n",
      "KNeighborsClassifier trained on 361.77 samples.\n",
      "KNeighborsClassifier trained on 3617.7 samples.\n",
      "KNeighborsClassifier trained on 36177 samples.\n"
     ]
    },
    {
     "data": {
      "image/png": "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\n",
      "text/plain": [
       "<Figure size 792x504 with 6 Axes>"
      ]
     },
     "metadata": {},
     "output_type": "display_data"
    }
   ],
   "source": [
    "from sklearn.metrics import accuracy_score\n",
    "from sklearn.metrics import fbeta_score\n",
    "from sklearn import svm\n",
    "from sklearn import tree\n",
    "from sklearn.naive_bayes import GaussianNB\n",
    "from sklearn.neighbors import KNeighborsClassifier\n",
    "from sklearn import svm\n",
    "def train_predict(learner, sample_size, X_train, y_train, X_test, y_test): \n",
    "    '''\n",
    "    inputs:\n",
    "       - learner: the learning algorithm to be trained and predicted on\n",
    "       - sample_size: the size of samples (number) to be drawn from training set\n",
    "       - X_train: features training set\n",
    "       - y_train: income training set\n",
    "       - X_test: features testing set\n",
    "       - y_test: income testing set\n",
    "    '''\n",
    "    \n",
    "    results = {}\n",
    "    \n",
    "    # TODO: Fit the learner to the training data using slicing with 'sample_size' using .fit(training_features[:], training_labels[:])\n",
    "    \n",
    "    start = time() # Get start time\n",
    "    learner.fit(X_train, y_train)\n",
    "    end = time() # Get end time\n",
    "    \n",
    "    # TODO: Calculate the training time\n",
    "    results['train_time'] = end - start\n",
    "        \n",
    "    # TODO: Get the predictions on the test set(X_test),\n",
    "    #       then get predictions on the first 300 training samples(X_train) using .predict()\n",
    "    start = time() # Get start time\n",
    "    predictions_test = learner.predict(X_test)[:300]\n",
    "    predictions_train = learner.predict(X_train[:300])\n",
    "    end = time() # Get end time\n",
    "    \n",
    "    # TODO: Calculate the total prediction time\n",
    "    results['pred_time'] = end - start\n",
    "            \n",
    "    # TODO: Compute accuracy on the first 300 training samples which is y_train[:300]\n",
    "    results['acc_train'] = accuracy_score(y_train[:300],predictions_train)\n",
    "        \n",
    "    # TODO: Compute accuracy on test set using accuracy_score()\n",
    "    results['acc_test'] = accuracy_score(y_test[:300],predictions_test)\n",
    "    \n",
    "    # TODO: Compute F-score on the the first 300 training samples using fbeta_score()\n",
    "    results['f_train'] = fbeta_score(y_train[:300], predictions_train, 0.5)\n",
    "        \n",
    "    # TODO: Compute F-score on the test set which is y_test\n",
    "    results['f_test'] = fbeta_score(y_test[:300], predictions_test, 0.5)\n",
    "       \n",
    "    # Success\n",
    "    print \"{} trained on {} samples.\".format(learner.__class__.__name__, sample_size)\n",
    "        \n",
    "    # Return the results\n",
    "    return results\n",
    "\n",
    "# TODO: Inicialize os três modelos\n",
    "clf_A = clf_A = svm.SVC(random_state=50)\n",
    "clf_B = tree.DecisionTreeClassifier(random_state=50)\n",
    "clf_C = KNeighborsClassifier(n_neighbors=3)\n",
    "\n",
    "# TODO: Calcule o número de amostras para 1%, 10%, e 100% dos dados de treinamento\n",
    "# HINT: samples_100 é todo o conjunto de treinamento e.x.: len(y_train)\n",
    "# HINT: samples_10 é 10% de samples_100\n",
    "# HINT: samples_1 é 1% de samples_100\n",
    "samples_100 = len(y_train)\n",
    "samples_10 = len(y_train) * 0.1\n",
    "samples_1 = len(y_train) * 0.01\n",
    "\n",
    "# Colete os resultados dos algoritmos de aprendizado\n",
    "results = {}\n",
    "for clf in [clf_A, clf_B, clf_C]:\n",
    "    clf_name = clf.__class__.__name__\n",
    "    results[clf_name] = {}\n",
    "    for i, samples in enumerate([samples_1, samples_10, samples_100]):\n",
    "        results[clf_name][i] = \\\n",
    "        train_predict(clf, samples, X_train, y_train, X_test, y_test)\n",
    "\n",
    "# Run metrics visualization for the three supervised learning models chosen\n",
    "vs.evaluate(results, accuracy, fscore)"
   ]
  },
  {
   "cell_type": "markdown",
   "metadata": {},
   "source": [
    "### Implementação: Validação inicial do modelo\n",
    "No código da célular, você precisará implementar o seguinte:\n",
    "- Importar os três modelos de aprendizado supervisionado que você escolheu na seção anterior \n",
    "- Inicializar os três modelos e armazená-los em `'clf_A'`, `'clf_B'`, e `'clf_C'`. \n",
    "  - Utilize um `'random_state'` para cada modelo que você utilizar, caso seja fornecido.\n",
    "  - **Nota:** Utilize as configurações padrão para cada modelo - você otimizará um modelo específico em uma seção posterior\n",
    "- Calcule o número de registros equivalentes à 1%, 10%, e 100% dos dados de treinamento.\n",
    "  - Armazene estes valores em `'samples_1'`, `'samples_10'`, e `'samples_100'` respectivamente.\n",
    "\n",
    "**Nota:** Dependendo do algoritmo de sua escolha, a implementação abaixo pode demorar algum tempo para executar!"
   ]
  },
  {
   "cell_type": "markdown",
   "metadata": {},
   "source": [
    "----\n",
    "## Melhorando os resultados\n",
    "Nesta seção final, você irá escolher o melhor entre os três modelos de aprendizado supervisionado para utilizar nos dados dos estudantes. Você irá então realizar uma busca grid para otimização em todo o conjunto de dados de treino (`X_train` e `y_train`) fazendo o tuning de pelo menos um parâmetro para melhorar o F-score anterior do modelo."
   ]
  },
  {
   "cell_type": "markdown",
   "metadata": {},
   "source": [
    "### Questão 3 - Escolhendo o melhor modelo\n",
    "\n",
    "* Baseado na validação anterior, em um ou dois parágrafos explique para a *CharityML* qual dos três modelos você acredita ser o mais apropriado para a tarefa de identificar indivíduos com remuneração anual superior à \\$50,000.  \n",
    "\n",
    "** DICA: ** \n",
    "Analise o gráfico do canto inferior esquerdo da célula acima(a visualização criada através do comando `vs.evaluate(results, accuracy, fscore)`) e verifique o F score para o conjunto de testes quando 100% do conjunto de treino é utilizado. Qual modelo possui o maior score? Sua resposta deve abranger os seguintes pontos:\n",
    "* métricas - F score no conjunto de testes quando 100% dos dados de treino são utilizados, \n",
    "* tempo de predição/treinamento \n",
    "* a adequação do algoritmo para este cojunto de dados."
   ]
  },
  {
   "cell_type": "markdown",
   "metadata": {},
   "source": [
    "**Resposta: ** Support Vector Machine teve um desempenho um pouco maior do que os demais modelos testados, apesar de demorar um pouco mais.  Como o fator tempo de processamento não influênciará nos requisitos do negocio acredito que este sejá o modelo mais apropriado."
   ]
  },
  {
   "cell_type": "markdown",
   "metadata": {},
   "source": [
    "### Questão 4 - Descrevendo o modelo nos termos de Layman\n",
    " \n",
    "* Em um ou dois parágrafos, explique para a *CharityML*, nos termos de layman, como o modelo final escolhido deveria funcionar. Garanta que você está descrevendo as principais vantagens do modelo, tais como o modo de treinar o modelo e como o modelo realiza a predição. Evite a utilização de jargões matemáticos avançados, como por exemplo a descrição de equações. \n",
    "\n",
    "** DICA: **\n",
    "\n",
    "Quando estiver explicando seu modelo, cite as fontes externas utilizadas, caso utilize alguma."
   ]
  },
  {
   "cell_type": "markdown",
   "metadata": {},
   "source": [
    "**Resposta: ** O algoritmo SVM além de dividir os dados com uma linha ele posiciona a linha levando em consideração uma margem entre os pontos mais próximos tornando o modelo assim mais confiável."
   ]
  },
  {
   "cell_type": "markdown",
   "metadata": {},
   "source": [
    "### Implementação: Tuning do modelo\n",
    "Refine o modelo escolhido. Utilize uma busca grid (`GridSearchCV`) com pleo menos um parâmetro importante refinado com pelo menos 3 valores diferentes. Você precisará utilizar todo o conjunto de treinamento para isso. Na célula de código abaixo, você precisará implementar o seguinte:\n",
    "- Importar [`sklearn.grid_search.GridSearchCV`](http://scikit-learn.org/0.17/modules/generated/sklearn.grid_search.GridSearchCV.html) e [`sklearn.metrics.make_scorer`](http://scikit-learn.org/stable/modules/generated/sklearn.metrics.make_scorer.html).\n",
    "- Inicializar o classificador escolhido por você e armazená-lo em `clf`.\n",
    " - Configurar um `random_state` se houver um disponível para o mesmo estado que você configurou anteriormente.\n",
    "- Criar um dicionário dos parâmetros que você quer otimizar para o modelo escolhido.\n",
    " - Exemplo: `parâmetro = {'parâmetro' : [lista de valores]}`.\n",
    " - **Nota:** Evite otimizar o parâmetro `max_features` se este parâmetro estiver disponível! \n",
    "- Utilize `make_scorer` para criar um objeto de pontuação `fbeta_score` (com $\\beta = 0.5$).\n",
    "- Realize a busca gride no classificador `clf` utilizando o `'scorer'` e armazene-o na variável `grid_obj`.   \n",
    "- Adeque o objeto da busca grid aos dados de treino (`X_train`, `y_train`) e armazene em `grid_fit`.\n",
    "\n",
    "**Nota:** Dependendo do algoritmo escolhido e da lista de parâmetros, a implementação a seguir pode levar algum tempo para executar! "
   ]
  },
  {
   "cell_type": "code",
   "execution_count": 13,
   "metadata": {},
   "outputs": [
    {
     "name": "stderr",
     "output_type": "stream",
     "text": [
      "/Volumes/disk/anaconda2/lib/python2.7/site-packages/sklearn/metrics/classification.py:1135: UndefinedMetricWarning: F-score is ill-defined and being set to 0.0 due to no predicted samples.\n",
      "  'precision', 'predicted', average, warn_for)\n"
     ]
    },
    {
     "name": "stdout",
     "output_type": "stream",
     "text": [
      "Unoptimized model\n",
      "------\n",
      "Accuracy score on testing data: 0.8371\n",
      "F-score on testing data: 0.6745\n",
      "\n",
      "Optimized Model\n",
      "------\n",
      "Final accuracy score on the testing data: 0.8371\n",
      "Final F-score on the testing data: 0.6745\n"
     ]
    }
   ],
   "source": [
    "\n",
    "# TODO: Importar 'GridSearchCV', 'make_scorer', e qualquer biblioteca necessária\n",
    "from sklearn.metrics import fbeta_score, accuracy_score, make_scorer\n",
    "from sklearn.model_selection import GridSearchCV\n",
    "\n",
    "# TODO: Inicializar o classificador\n",
    "clf = svm.SVC()\n",
    "\n",
    "# TODO: Criar a lista de parâmetros que você quer otimizar, utilizando um dicionário, caso necessário.\n",
    "# HINT: parameters = {'parameter_1': [value1, value2], 'parameter_2': [value1, value2]}\n",
    "parameters = {'C': [0.5, 1], 'kernel': ['rbf', 'poly']}\n",
    "\n",
    "# TODO: Criar um objeto fbeta_score utilizando make_scorer()\n",
    "scorer = make_scorer(fbeta_score, beta=2)\n",
    "\n",
    "# TODO: Realizar uma busca grid no classificador utilizando o 'scorer' como o método de score no GridSearchCV() \n",
    "grid_obj = GridSearchCV(clf,parameters,scoring=scorer)\n",
    "\n",
    "# TODO: Adequar o objeto da busca grid como os dados para treinamento e encontrar os parâmetros ótimos utilizando fit() \n",
    "grid_fit = grid_obj.fit(X_train, y_train)\n",
    "\n",
    "# Recuperar o estimador\n",
    "best_clf = grid_fit.best_estimator_\n",
    "\n",
    "# Realizar predições utilizando o modelo não otimizado e modelar\n",
    "predictions = (clf.fit(X_train, y_train)).predict(X_test)\n",
    "best_predictions = best_clf.predict(X_test)\n",
    "\n",
    "# Reportar os scores de antes e de depois\n",
    "print \"Unoptimized model\\n------\"\n",
    "print \"Accuracy score on testing data: {:.4f}\".format(accuracy_score(y_test, predictions))\n",
    "print \"F-score on testing data: {:.4f}\".format(fbeta_score(y_test, predictions, beta = 0.5))\n",
    "print \"\\nOptimized Model\\n------\"\n",
    "print \"Final accuracy score on the testing data: {:.4f}\".format(accuracy_score(y_test, best_predictions))\n",
    "print \"Final F-score on the testing data: {:.4f}\".format(fbeta_score(y_test, best_predictions, beta = 0.5))"
   ]
  },
  {
   "cell_type": "markdown",
   "metadata": {},
   "source": [
    "### Questão 5 - Validação final do modelo\n",
    "\n",
    "* Qual é a accuracy e o F-score do modelo otimizado utilizando os dados de testes?\n",
    "* Estes scores são melhores ou piores do que o modelo antes da otimização? \n",
    "* Como os resultados do modelo otimizado se comparam aos benchmarks do naive predictor que você encontrou na **Questão 1**?_\n",
    "\n",
    "**Nota:** Preencha a tabela abaixo com seus resultados e então responda as questões no campo **Resposta** "
   ]
  },
  {
   "cell_type": "markdown",
   "metadata": {},
   "source": [
    "#### Resultados:\n",
    "\n",
    "|     Metric     | Unoptimized Model | Optimized Model |\n",
    "| :------------: | :---------------: | :-------------: | \n",
    "| Accuracy Score |     0.8371        |      0.8391     |\n",
    "| F-score        |     0.6745        |      0.6780     |\n"
   ]
  },
  {
   "cell_type": "markdown",
   "metadata": {},
   "source": [
    "**Resposta: **\n",
    "|     Metric     | Unoptimized Model | Optimized Model |\n",
    "| :------------: | :---------------: | :-------------: | \n",
    "| Accuracy Score |     0.8371        |      0.8391     |\n",
    "| F-score        |     0.6745        |      0.6780     |\n",
    "\n"
   ]
  },
  {
   "cell_type": "markdown",
   "metadata": {},
   "source": [
    "----\n",
    "## Importância dos atributos\n",
    "\n",
    "Uma tarefa importante quando realizamos aprendizado supervisionado em um conjunto de dados como os dados do censo que estudamos aqui é determinar quais atributos fornecem maior poder de predição. Focando no relacionamento entre alguns poucos atributos mais importantes e na label alvo nós simplificamos muito o nosso entendimento do fenômeno, que é a coisa mais importante a se fazer. No caso deste projeto, isso significa que nós queremos identificar um pequeno número de atributos que possuem maior chance de predizer se um indivíduo possui renda anual superior à \\$50,000.\n",
    "\n",
    "Escolha um classificador da scikit-learn (e.x.: adaboost, random forests) que possua o atributo `feature_importance_`, que é uma função que calcula o ranking de importância dos atributos de acordo com o classificador escolhido. Na próxima célula python ajuste este classificador para o conjunto de treinamento e utilize este atributo para determinar os 5 atributos mais importantes do conjunto de dados do censo."
   ]
  },
  {
   "cell_type": "markdown",
   "metadata": {},
   "source": [
    "### Questão 6 - Observação da Relevância dos Atributos\n",
    "Quando **Exploramos os dados**, vimos que existem treze atributos disponíveis para cada registro nos dados do censo. Destes treze atributos, quais os 5 atributos que você acredita que são os mais importantes para predição e em que ordem você os ranquearia? Por quê?"
   ]
  },
  {
   "cell_type": "markdown",
   "metadata": {},
   "source": [
    "**Resposta:**\n",
    "native-country\n",
    "occupation\n",
    "education-num\n",
    "hours-per-week\n",
    "workclass\n"
   ]
  },
  {
   "cell_type": "markdown",
   "metadata": {},
   "source": [
    "### Implementação - Extraindo a importância do atributo\n",
    "Escolha um algoritmo de aprendizado supervisionado da `sciki-learn` que possui o atributo `feature_importance_` disponível. Este atributo é uma função que ranqueia a importância de cada atributo dos registros do conjunto de dados quando realizamos predições baseadas no algoritmo escolhido.\n",
    "\n",
    "Na célula de código abaixo, você precisará implementar o seguinte:\n",
    " - Importar um modelo de aprendizado supervisionado da sklearn se este for diferente dos três usados anteriormente. \n",
    " - Treinar o modelo supervisionado com todo o conjunto de treinamento.\n",
    " - Extrair a importância dos atributos utilizando `'.feature_importances_'`."
   ]
  },
  {
   "cell_type": "code",
   "execution_count": 11,
   "metadata": {},
   "outputs": [
    {
     "data": {
      "image/png": "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\n",
      "text/plain": [
       "<Figure size 648x360 with 1 Axes>"
      ]
     },
     "metadata": {},
     "output_type": "display_data"
    }
   ],
   "source": [
    "# TODO: Importar um modelo de aprendizado supervisionado que tenha 'feature_importances_'\n",
    "from sklearn.ensemble import ExtraTreesClassifier\n",
    "\n",
    "# TODO: Treinar o modelo utilizando o conjunto de treinamento com .fit(X_train, y_train)\n",
    "model = ExtraTreesClassifier(n_estimators=250,\n",
    "                              random_state=0)\n",
    "\n",
    "model.fit(X_train, y_train)\n",
    "\n",
    "# TODO: Extrair a importância dos atributos utilizando .feature_importances_ \n",
    "importances = model.feature_importances_\n",
    "\n",
    "# Plotar\n",
    "vs.feature_plot(importances, X_train, y_train)"
   ]
  },
  {
   "cell_type": "markdown",
   "metadata": {},
   "source": [
    "### Questão 7 - Extraindo importância dos atributos\n",
    "\n",
    "Observe a visualização criada acima que exibe os cinco atributos mais relevantes para predizer se um indivíduo possui remuneração igual ou superior à \\$50,000 por ano.\n",
    "\n",
    "* Como estes cinco atributos se comparam com os 5 atributos que você discutiu na **Questão 6**? \n",
    "* Se você estivesse próximo da mesma resposta, como esta visualização confirma o seu raciocínio? \n",
    "* Se você não estava próximo, por que você acha que estes atributos são mais relevantes? "
   ]
  },
  {
   "cell_type": "markdown",
   "metadata": {},
   "source": [
    "**Resposta:**\n",
    "\n",
    "Os campos são diferentes do que o imaginado.  Acredito serem mais relevantes por ser o resultado do algoritmo."
   ]
  },
  {
   "cell_type": "markdown",
   "metadata": {},
   "source": [
    "### Selecionando atributos\n",
    "\n",
    "Como um modelo performa se nós só utilizamos um subconjunto de todos os atributos disponíveis nos dados? Com menos atributos necessários para treinar, a expectativa é que o treinamento e a predição sejam executados em um tempo muito menor — com o custo da redução nas métricas de performance. A partir da visualização acima, nós vemos que os cinco atributos mais importantes contribuem para mais de 50% da importância de **todos** os atributos presentes nos dados. Isto indica que nós podemos tentar *reduzir os atributos* e simplificar a informação necessária para o modelo aprender. O código abaixo utilizará o mesmo modelo otimizado que você encontrou anteriormente e treinará o modelo com o mesmo conjunto de dados de treinamento, porém apenas com *os cinco atributos mais importantes*"
   ]
  },
  {
   "cell_type": "code",
   "execution_count": 14,
   "metadata": {},
   "outputs": [
    {
     "name": "stdout",
     "output_type": "stream",
     "text": [
      "Final Model trained on full data\n",
      "------\n",
      "Accuracy on testing data: 0.8371\n",
      "F-score on testing data: 0.6745\n",
      "\n",
      "Final Model trained on reduced data\n",
      "------\n",
      "Accuracy on testing data: 0.7850\n",
      "F-score on testing data: 0.4541\n"
     ]
    }
   ],
   "source": [
    "# Importar a funcionalidade para clonar um modelo\n",
    "from sklearn.base import clone\n",
    "\n",
    "# Reduzir a quantidade de atributos\n",
    "X_train_reduced = X_train[X_train.columns.values[(np.argsort(importances)[::-1])[:5]]]\n",
    "X_test_reduced = X_test[X_test.columns.values[(np.argsort(importances)[::-1])[:5]]]\n",
    "\n",
    "# Treinar o melhor modelo encontrado com a busca grid anterior\n",
    "clf = (clone(best_clf)).fit(X_train_reduced, y_train)\n",
    "\n",
    "# Fazer novas predições\n",
    "reduced_predictions = clf.predict(X_test_reduced)\n",
    "\n",
    "# Reportar os scores do modelo final utilizando as duas versões dos dados.\n",
    "print \"Final Model trained on full data\\n------\"\n",
    "print \"Accuracy on testing data: {:.4f}\".format(accuracy_score(y_test, best_predictions))\n",
    "print \"F-score on testing data: {:.4f}\".format(fbeta_score(y_test, best_predictions, beta = 0.5))\n",
    "print \"\\nFinal Model trained on reduced data\\n------\"\n",
    "print \"Accuracy on testing data: {:.4f}\".format(accuracy_score(y_test, reduced_predictions))\n",
    "print \"F-score on testing data: {:.4f}\".format(fbeta_score(y_test, reduced_predictions, beta = 0.5))"
   ]
  },
  {
   "cell_type": "markdown",
   "metadata": {},
   "source": [
    "### Questão 8 - Efeitos da seleção de atributos\n",
    "\n",
    "* Como o F-score do modelo final e o accuracy score do conjunto de dados reduzido utilizando apenas cinco atributos se compara aos mesmos indicadores utilizando todos os atributos? \n",
    "* Se o tempo de treinamento é uma variável importante, você consideraria utilizar os dados enxutos como seu conjunto de treinamento? \n"
   ]
  },
  {
   "cell_type": "markdown",
   "metadata": {},
   "source": [
    "**Resposta:**\n",
    "O tempo de processamento ficou muito menor, porém a taxa de acerto também ficou mais baixa.  Usaria os dados enxutos nesse caso já que o tempo de processamento não é impeditivo."
   ]
  },
  {
   "cell_type": "markdown",
   "metadata": {},
   "source": [
    "> **Nota**: Uma vez que você tenha concluído toda a implementação de código e respondido cada uma das questões acima, você poderá finalizar o seu trabalho exportando o iPython Notebook como um documento HTML. Você pode fazer isso utilizando o menu acima navegando para \n",
    "**File -> Download as -> HTML (.html)**. Inclua este documento junto do seu notebook como sua submissão."
   ]
  },
  {
   "cell_type": "code",
   "execution_count": null,
   "metadata": {},
   "outputs": [],
   "source": []
  }
 ],
 "metadata": {
  "kernelspec": {
   "display_name": "Python 2",
   "language": "python",
   "name": "python2"
  },
  "language_info": {
   "codemirror_mode": {
    "name": "ipython",
    "version": 2
   },
   "file_extension": ".py",
   "mimetype": "text/x-python",
   "name": "python",
   "nbconvert_exporter": "python",
   "pygments_lexer": "ipython2",
   "version": "2.7.15"
  }
 },
 "nbformat": 4,
 "nbformat_minor": 1
}
